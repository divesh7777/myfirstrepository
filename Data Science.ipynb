{
    "cells": [
        {
            "cell_type": "code",
            "execution_count": 5,
            "metadata": {},
            "outputs": [
                {
                    "name": "stdout",
                    "output_type": "stream",
                    "text": "8\n"
                }
            ],
            "source": "import pandas as pd\na=5\nb=3\nc=int.__add__(a,b)\nprint(c)"
        },
        {
            "cell_type": "code",
            "execution_count": 10,
            "metadata": {},
            "outputs": [
                {
                    "name": "stdout",
                    "output_type": "stream",
                    "text": "18\n9\n"
                }
            ],
            "source": "class demo:\n    def __init__(self,m1,m2):\n        self.m1=m1\n        self.m2=m2\n    def add(self):\n        c=self.m1+self.m2\n        return c\n    def sub(self,m1,m2):\n        c=self.m1-self.m2\n        return c\nc=demo(12,6)\nc2=demo(12,3)\nc2=demo.sub(c2,12,3)\nprint(c.add())\nprint(c2)\n"
        },
        {
            "cell_type": "code",
            "execution_count": null,
            "metadata": {},
            "outputs": [],
            "source": ""
        }
    ],
    "metadata": {
        "kernelspec": {
            "display_name": "Python 3.10",
            "language": "python",
            "name": "python3"
        },
        "language_info": {
            "codemirror_mode": {
                "name": "ipython",
                "version": 3
            },
            "file_extension": ".py",
            "mimetype": "text/x-python",
            "name": "python",
            "nbconvert_exporter": "python",
            "pygments_lexer": "ipython3",
            "version": "3.10.9"
        }
    },
    "nbformat": 4,
    "nbformat_minor": 1
}